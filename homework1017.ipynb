{
 "cells": [
  {
   "cell_type": "markdown",
   "id": "11357a90-2cd0-4555-8c8f-a3ce79a90d29",
   "metadata": {},
   "source": [
    "# Homework 1017\n",
    "\n",
    "Look through Oakland 311 calls the same way we looked through Berkeley 311 calls. Note any interesting observations."
   ]
  },
  {
   "cell_type": "code",
   "execution_count": null,
   "id": "0c7481a1-b532-4827-a3d3-525ee5d9b553",
   "metadata": {},
   "outputs": [],
   "source": [
    "import pandas as pd\n",
    "import requests"
   ]
  },
  {
   "cell_type": "markdown",
   "id": "697f51c6-b3ac-486e-bc99-8be67ab07d6f",
   "metadata": {},
   "source": [
    "## Download data\n",
    "\n",
    "Download [311 call data](https://data.oaklandca.gov/Infrastructure/Service-requests-received-by-the-Oakland-Call-Cent/quth-gb8e) from the City of Oakland's Open Data Portal. "
   ]
  },
  {
   "cell_type": "code",
   "execution_count": null,
   "id": "6fec60f3-f48f-4e5e-b4a2-44fc4e568e18",
   "metadata": {},
   "outputs": [],
   "source": [
    "url = 'https://data.oaklandca.gov/api/views/quth-gb8e/rows.csv?accessType=DOWNLOAD'\n",
    "r = requests.get(url, allow_redirects=False)\n",
    "\n",
    "# write the content of the request into a file called `oakland_311.csv`\n",
    "open('oakland_311.csv', 'wb').write(r.content)"
   ]
  }
 ],
 "metadata": {
  "kernelspec": {
   "display_name": "Python 3.9.4 64-bit ('3.9.4')",
   "language": "python",
   "name": "python3"
  },
  "language_info": {
   "codemirror_mode": {
    "name": "ipython",
    "version": 3
   },
   "file_extension": ".py",
   "mimetype": "text/x-python",
   "name": "python",
   "nbconvert_exporter": "python",
   "pygments_lexer": "ipython3",
   "version": "3.9.4"
  },
  "vscode": {
   "interpreter": {
    "hash": "3f20ec1070954acb9c0a1e2fe22c44e4562d4bc34fd6c3484aa4ca269fe7a4c9"
   }
  }
 },
 "nbformat": 4,
 "nbformat_minor": 5
}
