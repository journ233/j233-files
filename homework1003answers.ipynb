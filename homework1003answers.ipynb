{
 "cells": [
  {
   "cell_type": "markdown",
   "id": "6e4e528f-5f53-4cde-bbcb-7b636639ebf0",
   "metadata": {},
   "source": [
    "# Review Homework 1003"
   ]
  },
  {
   "cell_type": "markdown",
   "id": "c3e867fd-d2cc-4377-ae5c-7d91425d7c63",
   "metadata": {},
   "source": [
    "## Question 3 (2 points)\n",
    "Using **list comprehension**, rewrite the following so that you can set the variable `letters` in one line of code:\n",
    "\n",
    "```python\n",
    "letters = []\n",
    "for letter in ['a', 'b', 'c', 'd', 'e']:\n",
    "    letters.append(letter.upper())\n",
    "```"
   ]
  },
  {
   "cell_type": "code",
   "execution_count": null,
   "id": "dca352b0-e823-4394-8fc8-3b7e478dd7b2",
   "metadata": {},
   "outputs": [],
   "source": [
    "letters = [letter.upper() for letter in ['a', 'b', 'c', 'd', 'e']]\n",
    "letters"
   ]
  },
  {
   "cell_type": "markdown",
   "id": "7bd65bae",
   "metadata": {},
   "source": [
    "I took off points if you did not use list comprehension."
   ]
  },
  {
   "cell_type": "markdown",
   "id": "db1b99a7-b2a3-4e42-8947-5b17bf83c97a",
   "metadata": {
    "tags": []
   },
   "source": [
    "## Question 4 (2 points)\n",
    "\n",
    "Using **list comprehension**, write a **function** called `ages` that takes in 1) a list of birth years and 2) a year, then **returns a list** of the ages for that year in integers (assuming their birthdate is January 1).\n",
    "\n",
    "Example to test:\n",
    "```python\n",
    ">>> ages(2022, [1780, 1993, 2022, 2049])\n",
    "[242, 29, 0, -27]\n",
    "```"
   ]
  },
  {
   "cell_type": "code",
   "execution_count": null,
   "id": "27a1a1bd-9dbf-4fb6-85e0-3951225448f8",
   "metadata": {},
   "outputs": [],
   "source": [
    "def ages(start_year, birth_years):\n",
    "    return [start_year - year for year in birth_years]\n",
    "    \n",
    "ages(2022, [1780, 1993, 2022, 2049])"
   ]
  },
  {
   "cell_type": "markdown",
   "id": "44ee740b",
   "metadata": {},
   "source": [
    "I took off points if you did not use list comprehension."
   ]
  },
  {
   "cell_type": "markdown",
   "id": "4d56cabf-fa85-4ac5-abbf-680d40f34762",
   "metadata": {
    "tags": []
   },
   "source": [
    "## Question 5 (3 points)\n",
    "\n",
    "Write a `unique_characters()` **function** that takes in a string and **returns** only the unique characters, sorted alphabetically. If the function is called with an empty string, the program should return an error message of your choice.\n",
    "\n",
    "Examples to test:\n",
    "```python\n",
    ">>> unique_characters('apple')\n",
    "['a', 'e', 'p', 'l']\n",
    "\n",
    ">>> unique_characters('apPle')\n",
    "['P', 'a', 'e', 'l', 'p']\n",
    "\n",
    ">>> unique_characters('hello')\n",
    "['e', 'h', 'l', 'o']\n",
    "\n",
    ">>> unique_characters('cup')\n",
    "['c', 'p', 'u']\n",
    "\n",
    ">>> unique_characters('')\n",
    "'Error!'\n",
    "```"
   ]
  },
  {
   "cell_type": "code",
   "execution_count": null,
   "id": "bd6708f9-dcb5-44d0-9a2d-153259336b57",
   "metadata": {},
   "outputs": [],
   "source": [
    "def unique_characters(phrase):\n",
    "    if len(phrase) == 0:\n",
    "        return 'Error!'\n",
    "    else:\n",
    "        return sorted(set(phrase))"
   ]
  },
  {
   "cell_type": "code",
   "execution_count": null,
   "id": "14632052",
   "metadata": {},
   "outputs": [],
   "source": [
    "unique_characters('apple')"
   ]
  },
  {
   "cell_type": "code",
   "execution_count": null,
   "id": "114ba449",
   "metadata": {},
   "outputs": [],
   "source": [
    "unique_characters('apPle')"
   ]
  },
  {
   "cell_type": "code",
   "execution_count": null,
   "id": "1249a4ef",
   "metadata": {},
   "outputs": [],
   "source": [
    "unique_characters('hello')"
   ]
  },
  {
   "cell_type": "code",
   "execution_count": null,
   "id": "f948fbf7",
   "metadata": {},
   "outputs": [],
   "source": [
    "unique_characters('cup')"
   ]
  },
  {
   "cell_type": "code",
   "execution_count": null,
   "id": "c6e5d4bc",
   "metadata": {},
   "outputs": [],
   "source": [
    "unique_characters('')"
   ]
  },
  {
   "cell_type": "markdown",
   "id": "5e123ae8-6424-44a4-a648-61f7365ce5b3",
   "metadata": {},
   "source": [
    "## Question 6 (5 OR 6 points)\n",
    "\n",
    "- Choose between the two questions. The 2nd question has an extra credit point.\n",
    "- You are welcome to try both questions, but I will grade and comment on only ONE question. IF YOU ANSWER BOTH QUESTIONS, PLEASE INDICATE WHICH QUESTION YOU WANT ME TO GRADE, OR I WILL GRADE QUESTION 6a."
   ]
  },
  {
   "cell_type": "markdown",
   "id": "9e1f0e53-ab6e-40f5-920c-841e88e74788",
   "metadata": {},
   "source": [
    "### Question 6a (5 points)\n",
    "Create a **function** called `vowel_count()` that accepts a string and **returns the number** of vowels in that string.  Include repeated vowels. (Vowels are `a`, `e`, `i`, `o`, `u` — don't include `y`.)\n",
    "\n",
    "Examples to test:\n",
    "```python\n",
    ">>> vowel_count('Python is cool')\n",
    "4\n",
    "\n",
    ">>> vowel_count('How many vowels are in this sentence?')\n",
    "11\n",
    "\n",
    "# this one uses a capital for `Are`\n",
    ">>> vowel_count('How many vowels Are in this sentence?') \n",
    "11\n",
    "```"
   ]
  },
  {
   "cell_type": "code",
   "execution_count": null,
   "id": "7bc0cf4b-e715-4169-9195-bbb58c9147e1",
   "metadata": {},
   "outputs": [],
   "source": [
    "def vowel_count(phrase):\n",
    "    p = list(phrase.lower())\n",
    "    vowels = ['a', 'e', 'i', 'o', 'u']\n",
    "    # vowels = set('aeiou') # mod inspired by julietta\n",
    "    count = 0\n",
    "    for letter in p:\n",
    "        if letter in vowels:\n",
    "        # if letter in 'aeiou': # mod inspired by ananya\n",
    "            count = count + 1\n",
    "    return count"
   ]
  },
  {
   "cell_type": "code",
   "execution_count": null,
   "id": "0ebc8eec",
   "metadata": {},
   "outputs": [],
   "source": [
    "vowel_count('Python is cool')"
   ]
  },
  {
   "cell_type": "code",
   "execution_count": null,
   "id": "909a7c09",
   "metadata": {},
   "outputs": [],
   "source": [
    "vowel_count('How many vowels are in this sentence?')"
   ]
  },
  {
   "cell_type": "code",
   "execution_count": null,
   "id": "bc14af62",
   "metadata": {},
   "outputs": [],
   "source": [
    "vowel_count('How many vowels Are in this sentence?') "
   ]
  },
  {
   "cell_type": "code",
   "execution_count": null,
   "id": "d20e931c",
   "metadata": {},
   "outputs": [],
   "source": [
    "# alternative inspired by junyao\n",
    "# instead of using a counter, append letters to a list and return length of list\n",
    "def vowel_count(n):\n",
    "    letters_list = list(n)\n",
    "    vowels_common = []\n",
    "    for l in letters_list:\n",
    "        if l in set('aeiou'):\n",
    "            vowels_common.append(l)    \n",
    "    return(len(vowels_common))"
   ]
  },
  {
   "cell_type": "code",
   "execution_count": null,
   "id": "99989818",
   "metadata": {},
   "outputs": [],
   "source": [
    "# alternative inspired by aria\n",
    "# list comprehension with a conditional!\n",
    "def vowel_count(phrase):\n",
    "    vowels = ['a', 'e', 'i', 'o', 'u']\n",
    "    return len([char for char in phrase.lower() if char in vowels])"
   ]
  },
  {
   "cell_type": "code",
   "execution_count": null,
   "id": "407efe95",
   "metadata": {},
   "outputs": [],
   "source": [
    "vowel_count('How many vowels are in this sentence?')"
   ]
  },
  {
   "cell_type": "markdown",
   "id": "184b3f7a-ab11-4a07-83b0-3e896e832798",
   "metadata": {},
   "source": [
    "### Question 6b (6 points)\n",
    "Create a `prime_finder()` **function** that accepts a number and **returns a list** of all the prime numbers from 1 to that number. If there are no prime numbers, then return an empty list. (As a reminder, a prime number is a number that is only divisible by 1 and itself.)\n",
    "\n",
    "Example to test:\n",
    "```python\n",
    ">>> prime_finder(40)\n",
    "[2, 3, 5, 7, 11, 13, 17, 19, 23, 29, 31, 37]\n",
    "```"
   ]
  },
  {
   "cell_type": "code",
   "execution_count": null,
   "id": "b08bc73c-aee7-4419-8751-ff0a41a02d57",
   "metadata": {},
   "outputs": [],
   "source": [
    "def prime_finder(number):\n",
    "    primes = []\n",
    "    for num in range(1, number + 1):\n",
    "        divisors = []\n",
    "        for divisor in range(2, num + 1):\n",
    "            if num % divisor == 0:\n",
    "                divisors.append(num)\n",
    "        if len(divisors) == 1:\n",
    "            primes.append(num)\n",
    "    return primes\n",
    "                \n",
    "prime_finder(40)"
   ]
  },
  {
   "cell_type": "code",
   "execution_count": null,
   "id": "464624b2",
   "metadata": {},
   "outputs": [],
   "source": []
  }
 ],
 "metadata": {
  "kernelspec": {
   "display_name": "Python 3.9.4 64-bit ('j233-files-3.9.4')",
   "language": "python",
   "name": "python3"
  },
  "language_info": {
   "codemirror_mode": {
    "name": "ipython",
    "version": 3
   },
   "file_extension": ".py",
   "mimetype": "text/x-python",
   "name": "python",
   "nbconvert_exporter": "python",
   "pygments_lexer": "ipython3",
   "version": "3.9.4"
  },
  "vscode": {
   "interpreter": {
    "hash": "fb04f89b61a62c03d47bf47357bc88692aa1a75ad45736fa559ef9e95df90447"
   }
  }
 },
 "nbformat": 4,
 "nbformat_minor": 5
}
