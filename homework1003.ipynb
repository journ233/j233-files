{
 "cells": [
  {
   "cell_type": "markdown",
   "id": "6e4e528f-5f53-4cde-bbcb-7b636639ebf0",
   "metadata": {},
   "source": [
    "# Homework 1003\n",
    "- Upload this notebook to bCourses after you're done.\n",
    "- Make sure you test out your code!"
   ]
  },
  {
   "cell_type": "markdown",
   "id": "c3e867fd-d2cc-4377-ae5c-7d91425d7c63",
   "metadata": {},
   "source": [
    "## Question 3 (2 points)\n",
    "Using **list comprehension**, rewrite the following so that you can set the variable `letters` in one line of code:\n",
    "\n",
    "```python\n",
    "letters = []\n",
    "for letter in ['a', 'b', 'c', 'd', 'e']:\n",
    "    letters.append(letter.upper())\n",
    "```"
   ]
  },
  {
   "cell_type": "code",
   "execution_count": null,
   "id": "dca352b0-e823-4394-8fc8-3b7e478dd7b2",
   "metadata": {},
   "outputs": [],
   "source": []
  },
  {
   "cell_type": "markdown",
   "id": "db1b99a7-b2a3-4e42-8947-5b17bf83c97a",
   "metadata": {
    "tags": []
   },
   "source": [
    "## Question 4 (2 points)\n",
    "\n",
    "Using **list comprehension**, write a **function** called `ages` that takes in 1) a list of birth years and 2) a year, then **returns a list** of the ages for that year in integers (assuming their birthdate is January 1).\n",
    "\n",
    "Example to test:\n",
    "```python\n",
    ">>> ages(2022, [1780, 1993, 2022, 2049])\n",
    "[242, 29, 0, -27]\n",
    "```"
   ]
  },
  {
   "cell_type": "code",
   "execution_count": null,
   "id": "27a1a1bd-9dbf-4fb6-85e0-3951225448f8",
   "metadata": {},
   "outputs": [],
   "source": []
  },
  {
   "cell_type": "markdown",
   "id": "4d56cabf-fa85-4ac5-abbf-680d40f34762",
   "metadata": {
    "tags": []
   },
   "source": [
    "## Question 5 (3 points)\n",
    "\n",
    "Write a `unique_characters()` **function** that takes in a string and **returns** only the unique characters, sorted alphabetically. If the function is called with an empty string, the program should return an error message of your choice.\n",
    "\n",
    "Examples to test:\n",
    "```python\n",
    ">>> unique_characters('apple')\n",
    "['a', 'e', 'p', 'l']\n",
    "\n",
    ">>> unique_characters('apPle')\n",
    "['P', 'a', 'e', 'l', 'p']\n",
    "\n",
    ">>> unique_characters('hello')\n",
    "['e', 'h', 'l', 'o']\n",
    "\n",
    ">>> unique_characters('cup')\n",
    "['c', 'p', 'u']\n",
    "\n",
    ">>> unique_characters('')\n",
    "'Error!'\n",
    "```"
   ]
  },
  {
   "cell_type": "code",
   "execution_count": null,
   "id": "bd6708f9-dcb5-44d0-9a2d-153259336b57",
   "metadata": {},
   "outputs": [],
   "source": []
  },
  {
   "cell_type": "markdown",
   "id": "5e123ae8-6424-44a4-a648-61f7365ce5b3",
   "metadata": {},
   "source": [
    "## Question 6 (5 OR 6 points)\n",
    "\n",
    "- Choose between the two questions. The 2nd question has an extra credit point.\n",
    "- You are welcome to try both questions, but I will grade and comment on only ONE question. IF YOU ANSWER BOTH QUESTIONS, PLEASE INDICATE WHICH QUESTION YOU WANT ME TO GRADE, OR I WILL GRADE QUESTION 6a."
   ]
  },
  {
   "cell_type": "markdown",
   "id": "9e1f0e53-ab6e-40f5-920c-841e88e74788",
   "metadata": {},
   "source": [
    "### Question 6a (5 points)\n",
    "Create a **function** called `vowel_count()` that accepts a string and **returns the number** of vowels in that string.  Include repeated vowels. (Vowels are `a`, `e`, `i`, `o`, `u` — don't include `y`.)\n",
    "\n",
    "Examples to test:\n",
    "```python\n",
    ">>> vowel_count('Python is cool')\n",
    "4\n",
    "\n",
    ">>> vowel_count('How many vowels are in this sentence?')\n",
    "11\n",
    "\n",
    "# this one uses a capital for `Are`\n",
    ">>> vowel_count('How many vowels Are in this sentence?') \n",
    "11\n",
    "```"
   ]
  },
  {
   "cell_type": "code",
   "execution_count": null,
   "id": "7bc0cf4b-e715-4169-9195-bbb58c9147e1",
   "metadata": {},
   "outputs": [],
   "source": []
  },
  {
   "cell_type": "markdown",
   "id": "184b3f7a-ab11-4a07-83b0-3e896e832798",
   "metadata": {},
   "source": [
    "### Question 6b (6 points)\n",
    "Create a `prime_finder()` **function** that accepts a number and **returns a list** of all the prime numbers from 1 to that number. If there are no prime numbers, then return an empty list. (As a reminder, a prime number is a number that is only divisible by 1 and itself.)\n",
    "\n",
    "Example to test:\n",
    "```python\n",
    ">>> prime_finder(40)\n",
    "[2, 3, 5, 7, 11, 13, 17, 19, 23, 29, 31, 37]\n",
    "```"
   ]
  },
  {
   "cell_type": "code",
   "execution_count": null,
   "id": "b08bc73c-aee7-4419-8751-ff0a41a02d57",
   "metadata": {},
   "outputs": [],
   "source": []
  }
 ],
 "metadata": {
  "kernelspec": {
   "display_name": "Python 3 (ipykernel)",
   "language": "python",
   "name": "python3"
  },
  "language_info": {
   "codemirror_mode": {
    "name": "ipython",
    "version": 3
   },
   "file_extension": ".py",
   "mimetype": "text/x-python",
   "name": "python",
   "nbconvert_exporter": "python",
   "pygments_lexer": "ipython3",
   "version": "3.9.13"
  }
 },
 "nbformat": 4,
 "nbformat_minor": 5
}
