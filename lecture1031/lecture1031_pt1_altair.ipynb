{
 "cells": [
  {
   "cell_type": "markdown",
   "metadata": {},
   "source": [
    "# Lecture 1031: Customizing Altair"
   ]
  },
  {
   "cell_type": "code",
   "execution_count": null,
   "metadata": {},
   "outputs": [],
   "source": [
    "import pandas as pd\n",
    "import altair as alt"
   ]
  },
  {
   "cell_type": "markdown",
   "metadata": {},
   "source": [
    "## Import data"
   ]
  },
  {
   "cell_type": "code",
   "execution_count": null,
   "metadata": {},
   "outputs": [],
   "source": [
    "# Note the file name below: I use ../ to go up one directory\n",
    "berkeley_311 = pd.read_csv('../berkeley_311_clean.csv', \n",
    "    dtype={\n",
    "        'Case_ID': object,\n",
    "    },\n",
    "    parse_dates=['Date_Opened', 'Date_Closed', 'Close_Time']\n",
    ")\n",
    "berkeley_311"
   ]
  },
  {
   "cell_type": "markdown",
   "metadata": {},
   "source": [
    "## Text and dimensions\n",
    "- Add a title and subtitle\n",
    "- Specify height and width\n",
    "- Customize axes"
   ]
  },
  {
   "cell_type": "code",
   "execution_count": null,
   "metadata": {},
   "outputs": [],
   "source": [
    "calls_by_month = berkeley_311.groupby([pd.Grouper(key='Date_Opened', axis=0, freq='M')]).count()[['Case_ID']].reset_index()\n",
    "\n",
    "# Rename column to `COUNT`\n",
    "calls_by_month.rename(columns={'Case_ID': 'Count'}, inplace=True)"
   ]
  },
  {
   "cell_type": "code",
   "execution_count": null,
   "metadata": {},
   "outputs": [],
   "source": [
    "alt.Chart(calls_by_month).mark_bar().encode(\n",
    "    x='Date_Opened:T',\n",
    "    y='Count'\n",
    ")"
   ]
  },
  {
   "cell_type": "code",
   "execution_count": null,
   "metadata": {},
   "outputs": [],
   "source": [
    "alt.Chart(calls_by_month).mark_bar().encode(\n",
    "    x='Date_Opened:T',\n",
    "    y='Count' # comment this line out, then uncomment the below line\n",
    "    # y=alt.Y('Count', axis=alt.Axis(tickCount=3))\n",
    ").properties(\n",
    "    title={\n",
    "        'text': 'Berkeley 311 calls',\n",
    "        'subtitle' : ['Number of calls per month']\n",
    "    },\n",
    "    height=200,\n",
    "    width=400\n",
    ")"
   ]
  },
  {
   "cell_type": "markdown",
   "metadata": {},
   "source": [
    "POLL 3: How would you customize the x-axis? [pollev.com/soooh](https://pollev.com/soooh)."
   ]
  },
  {
   "cell_type": "markdown",
   "metadata": {},
   "source": [
    "## Line chart\n",
    "\n",
    "Line charts are good for rates, or if you have multiple series."
   ]
  },
  {
   "cell_type": "code",
   "execution_count": null,
   "metadata": {},
   "outputs": [],
   "source": [
    "berkeley_311['Request_Category'].value_counts()"
   ]
  },
  {
   "cell_type": "code",
   "execution_count": null,
   "metadata": {},
   "outputs": [],
   "source": [
    "categories_by_month = berkeley_311.groupby([pd.Grouper(key='Date_Opened', axis=0, freq='M'), 'Request_Category']).count()[['Case_ID']].reset_index()"
   ]
  },
  {
   "cell_type": "code",
   "execution_count": null,
   "metadata": {},
   "outputs": [],
   "source": [
    "# rename cols\n",
    "categories_by_month.columns = ['Month_Opened', 'Request_Category', 'Cases'] # we've been using `Count` but I switched to Cases here for no reason."
   ]
  },
  {
   "cell_type": "code",
   "execution_count": null,
   "metadata": {},
   "outputs": [],
   "source": [
    "categories_by_month"
   ]
  },
  {
   "cell_type": "code",
   "execution_count": null,
   "metadata": {},
   "outputs": [],
   "source": [
    "# How to get percentage of total by mounth\n",
    "categories_by_month['Case_Rate'] = categories_by_month['Cases'] / categories_by_month.groupby('Month_Opened')['Cases'].transform('sum')\n",
    "categories_by_month"
   ]
  },
  {
   "cell_type": "code",
   "execution_count": null,
   "metadata": {},
   "outputs": [],
   "source": [
    "refuse = categories_by_month[categories_by_month['Request_Category'] == 'Refuse and Recycling'].copy()\n",
    "refuse"
   ]
  },
  {
   "cell_type": "code",
   "execution_count": null,
   "metadata": {},
   "outputs": [],
   "source": [
    "alt.Chart(refuse).mark_line().encode(\n",
    "    x=alt.X('Month_Opened'),\n",
    "    y=alt.Y('Case_Rate'),\n",
    ").properties(\n",
    "    title={\n",
    "        'text': 'Berkeley 311 calls',\n",
    "        'subtitle' : ['Rate of Refuse and Recycling cases per month']\n",
    "    }\n",
    ")"
   ]
  },
  {
   "cell_type": "markdown",
   "metadata": {},
   "source": [
    "## Check out Altair's examples\n",
    "\n",
    "Altair has a [gallery of examples](https://altair-viz.github.io/gallery/index.html). Let's look at them together."
   ]
  }
 ],
 "metadata": {
  "kernelspec": {
   "display_name": "Python 3.9.4 64-bit ('j233-files-3.9.4')",
   "language": "python",
   "name": "python3"
  },
  "language_info": {
   "codemirror_mode": {
    "name": "ipython",
    "version": 3
   },
   "file_extension": ".py",
   "mimetype": "text/x-python",
   "name": "python",
   "nbconvert_exporter": "python",
   "pygments_lexer": "ipython3",
   "version": "3.9.4"
  },
  "orig_nbformat": 4,
  "vscode": {
   "interpreter": {
    "hash": "fb04f89b61a62c03d47bf47357bc88692aa1a75ad45736fa559ef9e95df90447"
   }
  }
 },
 "nbformat": 4,
 "nbformat_minor": 2
}
