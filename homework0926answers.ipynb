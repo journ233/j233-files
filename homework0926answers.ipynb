{
 "cells": [
  {
   "cell_type": "markdown",
   "metadata": {},
   "source": [
    "# Homework 0926 answers\n",
    "\n",
    "## Question 1\n",
    "\n",
    "Write a lambda function that takes in a person's name and then prints out \"Hello, Name!\" (with \"Name changed to the actual name, of course!). You'll use Python's built-in `print()` function. It would look like:"
   ]
  },
  {
   "cell_type": "markdown",
   "metadata": {},
   "source": [
    "## Question 2\n",
    "\n",
    "I have a dictionary that shows what I'm planning on eating today:"
   ]
  },
  {
   "cell_type": "code",
   "execution_count": null,
   "metadata": {},
   "outputs": [],
   "source": [
    "todays_meals = {\n",
    "    'breakfast' : 'coffee and pastry',\n",
    "    'lunch': 'sandwich',\n",
    "    'dinner': 'pasta'\n",
    "}"
   ]
  },
  {
   "cell_type": "markdown",
   "metadata": {},
   "source": [
    "But I don't want to eat pasta for dinner. Write in code to change the value of 'pasta' to 'pizza'."
   ]
  },
  {
   "cell_type": "code",
   "execution_count": null,
   "metadata": {},
   "outputs": [],
   "source": [
    "todays_meals['dinner'] = 'pizza'\n",
    "todays_meals"
   ]
  },
  {
   "cell_type": "markdown",
   "metadata": {},
   "source": [
    "## Question 3\n",
    "\n",
    "What do you set a variable when you don't know its value?\n",
    "\n",
    "Answer: `None`"
   ]
  },
  {
   "cell_type": "markdown",
   "metadata": {},
   "source": [
    "## Question 4\n",
    "\n",
    "What are the types of the following data structure?\n",
    "\n",
    "```python\n",
    "[python', 'is', 'hard'] \n",
    "```\n",
    "`list`\n",
    "\n",
    "Someone pointed out that I missed a quotation mark in this question. They got an extra credit point!\n",
    "\n",
    "```python\n",
    "{'too', 'many', 'cooks'} \n",
    "```\n",
    "`set`\n",
    "\n",
    "```python\n",
    "{'shirt': 'black', 'pants': 'blue', 'shoes': 'brown'}\n",
    "```\n",
    "`dict`\n"
   ]
  },
  {
   "cell_type": "markdown",
   "metadata": {},
   "source": [
    "## Question 5\n",
    "\n",
    "Last week, you wrote code for a function called `parity`. Write a function that takes in a list of values and then returns a corresponding list that categorizes each value in the list as 'even', 'odd', or 'not an integer'.\n",
    "\n",
    "For example:\n",
    "```python\n",
    "def parity_list(list_of_values):\n",
    "    pass\n",
    "    # write your code here\n",
    "\n",
    "parity_list([5, 6, 9, 'cat'])\n",
    "# would return ['odd', 'even', 'odd', 'not an integer']\n",
    "```\n",
    "\n",
    "You can reuse your `parity` function and use DataHub to check your answer.\n",
    "\n",
    "### Grading notes\n",
    "- Took off half point if you printed out the list but did not return it\n",
    "- Took off full point if you printed out each item line by line\n"
   ]
  },
  {
   "cell_type": "code",
   "execution_count": null,
   "metadata": {},
   "outputs": [],
   "source": [
    "def parity(n):\n",
    "    if type(n) != int:\n",
    "        return 'not an integer'\n",
    "    elif n % 2:\n",
    "        return 'odd'\n",
    "    else: \n",
    "        return 'even'\n",
    "\n",
    "def parity_list(list_of_values):\n",
    "    p_list = []\n",
    "    for value in list_of_values:\n",
    "        p_list.append(parity(value))\n",
    "    return p_list\n",
    "\n",
    "    parity_list([5, 6, 9, 'cat'])"
   ]
  },
  {
   "cell_type": "markdown",
   "metadata": {},
   "source": [
    "## Question 6\n",
    "\n",
    "Given the following two sets...\n",
    "\n",
    "```python\n",
    "cafe1_drinks = {'coffee', 'tea', 'soda', 'flat water'}\n",
    "cafe2_drinks = {'coffee', 'tea', 'sparkling water', 'smoothie'}\n",
    "```\n",
    "... write the correct expressions that would yield the following results:\n",
    "\n",
    "1. `{'coffee', 'tea'}`\n",
    "\n",
    "2. `{'coffee', 'flat water', 'smoothie', 'soda', 'sparkling water', 'tea'}`\n",
    "\n",
    "3. `{'smoothie', 'sparkling water'}`\n",
    "\n",
    "4. `{'flat water', 'smoothie', 'soda', 'sparkling water'}`"
   ]
  },
  {
   "cell_type": "code",
   "execution_count": null,
   "metadata": {},
   "outputs": [],
   "source": [
    "cafe1_drinks = {'coffee', 'tea', 'soda', 'flat water'}\n",
    "cafe2_drinks = {'coffee', 'tea', 'sparkling water', 'smoothie'}"
   ]
  },
  {
   "cell_type": "code",
   "execution_count": null,
   "metadata": {},
   "outputs": [],
   "source": [
    "# 1\n",
    "cafe1_drinks & cafe2_drinks"
   ]
  },
  {
   "cell_type": "code",
   "execution_count": null,
   "metadata": {},
   "outputs": [],
   "source": [
    "# 2\n",
    "cafe1_drinks | cafe2_drinks"
   ]
  },
  {
   "cell_type": "code",
   "execution_count": null,
   "metadata": {},
   "outputs": [],
   "source": [
    "# 3\n",
    "cafe2_drinks - cafe1_drinks"
   ]
  },
  {
   "cell_type": "code",
   "execution_count": null,
   "metadata": {},
   "outputs": [],
   "source": [
    "# 4\n",
    "cafe1_drinks ^ cafe2_drinks"
   ]
  },
  {
   "cell_type": "markdown",
   "metadata": {},
   "source": [
    "## Question 7\n",
    "\n",
    "Last week, you saw the incorrect function below:\n",
    "\n",
    "```python\n",
    "def voting_age(x):\n",
    "    if x = 17:\n",
    "        return 'Almost there'\n",
    "    else if x > 18:\n",
    "        return True\n",
    "    else\n",
    "        return 'False'\n",
    "```\n",
    "Fix this function and use `try` and `except` to catch type errors.\n",
    "\n",
    "### Grading notes\n",
    "\n",
    "- I gave points for basically any type of `Exception` you chose, even though I specifically said type errors."
   ]
  },
  {
   "cell_type": "code",
   "execution_count": null,
   "metadata": {},
   "outputs": [],
   "source": [
    "def voting_age(age):\n",
    "    try:\n",
    "        if (age >= 17) and (age < 18):\n",
    "            print('Almost there')\n",
    "            return False\n",
    "        elif age >= 18:\n",
    "            return True\n",
    "        else:\n",
    "            return False\n",
    "    except TypeError:\n",
    "        print('Did you input a number?')\n",
    "        return False"
   ]
  },
  {
   "cell_type": "code",
   "execution_count": null,
   "metadata": {},
   "outputs": [],
   "source": [
    "seventeen = voting_age(17.9)\n",
    "print(seventeen)"
   ]
  },
  {
   "cell_type": "code",
   "execution_count": null,
   "metadata": {},
   "outputs": [],
   "source": [
    "eighteen = voting_age(18)\n",
    "print(eighteen)"
   ]
  },
  {
   "cell_type": "code",
   "execution_count": null,
   "metadata": {},
   "outputs": [],
   "source": [
    "not_an_age = voting_age('asdf')\n",
    "print(not_an_age)"
   ]
  },
  {
   "cell_type": "markdown",
   "metadata": {},
   "source": [
    "## Question 8\n",
    "\n",
    "Last week, you wrote a guessing game. This time, rewrite your guessing game so that you save the previous guesses and print them all after the person guesses a correct answer."
   ]
  },
  {
   "cell_type": "code",
   "execution_count": null,
   "metadata": {},
   "outputs": [],
   "source": [
    "def guess():\n",
    "    my_num = 4\n",
    "    user_guesses = []\n",
    "    user_num = int(input('Pick a number from 0 to 5: '))\n",
    "    while user_num != my_num:\n",
    "        user_guesses.append(user_num)\n",
    "        print('Incorrect!')\n",
    "        user_num = int(input('Pick again: '))\n",
    "    print('Correct!')\n",
    "    print('These were your previous guesses:')\n",
    "    print(user_guesses)\n",
    "guess()"
   ]
  },
  {
   "cell_type": "markdown",
   "metadata": {},
   "source": [
    "## Final notes\n",
    "\n",
    "1. Even though they are not reserved keywords, never re-define built-in types! "
   ]
  },
  {
   "cell_type": "code",
   "execution_count": null,
   "metadata": {},
   "outputs": [],
   "source": [
    "# Running this code will break the notebook's ability to use the built-in `list()`` function\n",
    "# list = 'test'.split()\n",
    "# empty_list = list()"
   ]
  },
  {
   "cell_type": "markdown",
   "metadata": {},
   "source": [
    "2. Defining a function within a function means you can't use it."
   ]
  },
  {
   "cell_type": "code",
   "execution_count": null,
   "metadata": {},
   "outputs": [],
   "source": [
    "def parity_list_2(list_of_values):\n",
    "    def parity_embedded(n):\n",
    "        if type(n) != int:\n",
    "            return 'not an integer'\n",
    "        elif n % 2:\n",
    "            return 'odd'\n",
    "        else: \n",
    "            return 'even'\n",
    "            \n",
    "    p_list = []\n",
    "    for value in list_of_values:\n",
    "        p_list.append(parity_embedded(value))\n",
    "    return p_list\n",
    "\n",
    "parity_list([5, 6, 9, 'cat'])"
   ]
  },
  {
   "cell_type": "code",
   "execution_count": null,
   "metadata": {},
   "outputs": [],
   "source": [
    "parity_embedded(5)"
   ]
  },
  {
   "cell_type": "code",
   "execution_count": null,
   "metadata": {},
   "outputs": [],
   "source": []
  }
 ],
 "metadata": {
  "kernelspec": {
   "display_name": "Python 3.8.6 64-bit ('j233-files-3.8.6')",
   "language": "python",
   "name": "python3"
  },
  "language_info": {
   "codemirror_mode": {
    "name": "ipython",
    "version": 3
   },
   "file_extension": ".py",
   "mimetype": "text/x-python",
   "name": "python",
   "nbconvert_exporter": "python",
   "pygments_lexer": "ipython3",
   "version": "3.8.6"
  },
  "orig_nbformat": 4,
  "vscode": {
   "interpreter": {
    "hash": "50420afa54514f78fcf0c05352112262c8f1edc687740ab6418d2caef4c1f300"
   }
  }
 },
 "nbformat": 4,
 "nbformat_minor": 2
}
