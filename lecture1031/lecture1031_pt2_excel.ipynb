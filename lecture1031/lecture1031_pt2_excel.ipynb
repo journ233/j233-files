{
 "cells": [
  {
   "cell_type": "markdown",
   "metadata": {},
   "source": [
    "# Lecture 1031: Reading in Excel files"
   ]
  },
  {
   "cell_type": "code",
   "execution_count": null,
   "metadata": {},
   "outputs": [],
   "source": [
    "import pandas as pd"
   ]
  },
  {
   "cell_type": "markdown",
   "metadata": {},
   "source": [
    "## pd.read_excel()\n",
    "\n",
    "On October 31, 2022, I downloaded `export.xls` from [Cal-Access](https://cal-access.sos.ca.gov/Campaign/Committees/Detail.aspx?id=1414018&session=2021&view=received) using the download link that says \"DOWNLOAD THESE RESULTS: MICROSOFT EXCEL\"\n",
    "\n",
    "We're going to use the method [`pd.read_excel()`](https://pandas.pydata.org/docs/reference/api/pandas.read_excel.html) to import the data."
   ]
  },
  {
   "cell_type": "code",
   "execution_count": null,
   "metadata": {},
   "outputs": [],
   "source": [
    "# you will get an error when running this\n",
    "data = pd.read_excel('export.xls')"
   ]
  },
  {
   "cell_type": "markdown",
   "metadata": {},
   "source": [
    "## Error 1\n",
    "The error we got was \"Excel file format cannot be determined, you must specify an engine manually.\" Let's go to the [method's documentation](https://pandas.pydata.org/docs/reference/api/pandas.read_excel.html) and search for `engine`.\n",
    "\n",
    "```\n",
    "engine: str, default None\n",
    "If io is not a buffer or path, this must be set to identify io. Supported engines: “xlrd”, “openpyxl”, “odf”, “pyxlsb”. Engine compatibility :\n",
    "- “xlrd” supports old-style Excel files (.xls).\n",
    "- “openpyxl” supports newer Excel file formats.\n",
    "- “odf” supports OpenDocument file formats (.odf, .ods, .odt).\n",
    "- “pyxlsb” supports Binary Excel files.\n",
    "```\n",
    "\n",
    "This is a .xls file, so we should use the `xlrd` engine."
   ]
  },
  {
   "cell_type": "code",
   "execution_count": null,
   "metadata": {},
   "outputs": [],
   "source": [
    "# you will STILL get an error when running this\n",
    "data = pd.read_excel('export.xls', engine='xlrd')"
   ]
  },
  {
   "cell_type": "markdown",
   "metadata": {},
   "source": [
    "## Error 2\n",
    "\n",
    "The error I got here was \"Missing optional dependency 'xlrd'. Install xlrd >= 1.0.0 for Excel support Use pip or conda to install xlrd.\"\n",
    "\n",
    "So, let's `pip install xlrd`. \n",
    "\n",
    "When you use an exclamation point before some code in a Python cell, Jupyter will run that cell like a terminal command. (We'll learn about the terminal next week!)"
   ]
  },
  {
   "cell_type": "code",
   "execution_count": null,
   "metadata": {},
   "outputs": [],
   "source": [
    "!pip install xlrd"
   ]
  },
  {
   "cell_type": "code",
   "execution_count": null,
   "metadata": {},
   "outputs": [],
   "source": [
    "# you will STILL get an error when running this\n",
    "data = pd.read_excel('export.xls', engine='xlrd')"
   ]
  },
  {
   "cell_type": "markdown",
   "metadata": {},
   "source": [
    "## Error 3\n",
    "I still got an error! The error I got was: \"Unsupported format, or corrupt file: Expected BOF record; found b'\"NAME OF'\"\n",
    "\n",
    "OK, so does anyone know what the problem is?\n",
    "\n",
    "If you have Excel on your computer, try opening up the file.\n",
    "\n",
    "![Screenshot of error](xls_error.png \"Screenshot of error\")"
   ]
  },
  {
   "cell_type": "markdown",
   "metadata": {},
   "source": [
    "Something is wrong with this file. So when I got that alert, I hit \"Yes\" then saved the file in Excel as a `.xlsx` file.\n",
    "\n",
    "(Note: I do not have Excel on my personal laptop, so I did this on my work laptop.)"
   ]
  },
  {
   "cell_type": "markdown",
   "metadata": {},
   "source": [
    "## Try importing again"
   ]
  },
  {
   "cell_type": "code",
   "execution_count": null,
   "metadata": {},
   "outputs": [],
   "source": [
    "# we'll change the engine since `xlrd` doesn't support .xlsx files\n",
    "data = pd.read_excel('export.xlsx', engine='openpyxl')"
   ]
  },
  {
   "cell_type": "markdown",
   "metadata": {},
   "source": [
    "ARGH: \"ImportError: Missing optional dependency 'openpyxl'.  Use pip or conda to install openpyxl.\""
   ]
  },
  {
   "cell_type": "markdown",
   "metadata": {},
   "source": [
    "### Install openpyxl"
   ]
  },
  {
   "cell_type": "code",
   "execution_count": null,
   "metadata": {},
   "outputs": [],
   "source": [
    "!pip install openpyxl"
   ]
  },
  {
   "cell_type": "markdown",
   "metadata": {},
   "source": [
    "## FINALLY, import data"
   ]
  },
  {
   "cell_type": "code",
   "execution_count": null,
   "metadata": {},
   "outputs": [],
   "source": [
    "data = pd.read_excel('export.xlsx', engine='openpyxl')"
   ]
  },
  {
   "cell_type": "markdown",
   "metadata": {},
   "source": [
    "Yay, that worked! Let's see what's inside and be sure to export a CSV of this!!!\n",
    "\n",
    "## Explore and export"
   ]
  },
  {
   "cell_type": "code",
   "execution_count": null,
   "metadata": {},
   "outputs": [],
   "source": [
    "data"
   ]
  },
  {
   "cell_type": "code",
   "execution_count": null,
   "metadata": {},
   "outputs": [],
   "source": [
    "data.info()"
   ]
  },
  {
   "cell_type": "markdown",
   "metadata": {},
   "source": [
    "POLL 4: Anything you're noticing about the data? [https://pollev.com/soooh](https://pollev.com/soooh)\n",
    "\n",
    "### Re-import the data, typed"
   ]
  },
  {
   "cell_type": "code",
   "execution_count": null,
   "metadata": {},
   "outputs": [],
   "source": [
    "data = pd.read_excel(\n",
    "    'export.xlsx',\n",
    "    engine='openpyxl',\n",
    "    dtype={\n",
    "        'ID NUMBER' : object\n",
    "    }\n",
    ")"
   ]
  },
  {
   "cell_type": "code",
   "execution_count": null,
   "metadata": {},
   "outputs": [],
   "source": [
    "data"
   ]
  },
  {
   "cell_type": "markdown",
   "metadata": {},
   "source": [
    "### Export"
   ]
  },
  {
   "cell_type": "code",
   "execution_count": null,
   "metadata": {},
   "outputs": [],
   "source": [
    "data.to_csv('newsom_contribs.csv', index=False)"
   ]
  }
 ],
 "metadata": {
  "kernelspec": {
   "display_name": "Python 3.9.4 64-bit ('3.9.4')",
   "language": "python",
   "name": "python3"
  },
  "language_info": {
   "codemirror_mode": {
    "name": "ipython",
    "version": 3
   },
   "file_extension": ".py",
   "mimetype": "text/x-python",
   "name": "python",
   "nbconvert_exporter": "python",
   "pygments_lexer": "ipython3",
   "version": "3.9.4"
  },
  "orig_nbformat": 4,
  "vscode": {
   "interpreter": {
    "hash": "3f20ec1070954acb9c0a1e2fe22c44e4562d4bc34fd6c3484aa4ca269fe7a4c9"
   }
  }
 },
 "nbformat": 4,
 "nbformat_minor": 2
}
