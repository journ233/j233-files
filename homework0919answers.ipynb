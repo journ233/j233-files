{
 "cells": [
  {
   "cell_type": "markdown",
   "id": "2d8663f3",
   "metadata": {},
   "source": [
    "# Review Homework 0919"
   ]
  },
  {
   "cell_type": "markdown",
   "id": "0184095e",
   "metadata": {},
   "source": [
    "## Question 1 (3 points)\n",
    "\n",
    "Write a number guessing game that asks a user to pick a number from 0 to 5. You as the programmer can pick the correct number. If the user gets the guess wrong, they are prompted again until they answer correctly. If the user guesses correctly, then the code will print \"Correct!\""
   ]
  },
  {
   "cell_type": "code",
   "execution_count": null,
   "id": "a31f3ae0",
   "metadata": {},
   "outputs": [],
   "source": [
    "def guess():\n",
    "    num = input('Pick a number between 1 and 5: ')\n",
    "    num = int(num)\n",
    "    # or combine the previous 2 lines with \n",
    "    # num = int(input('Pick a number between 1 and 5: '))\n",
    "    \n",
    "    if num == 4:\n",
    "        print('Good guess!')\n",
    "    else:\n",
    "        print('Incorrect!')\n",
    "        guess()"
   ]
  },
  {
   "cell_type": "markdown",
   "id": "c3828203-a204-4f60-bc34-e263980f3244",
   "metadata": {},
   "source": [
    "**Test**"
   ]
  },
  {
   "cell_type": "code",
   "execution_count": null,
   "id": "79b7c324-fc82-49d8-a660-e612f3055bec",
   "metadata": {},
   "outputs": [],
   "source": [
    "guess()"
   ]
  },
  {
   "cell_type": "markdown",
   "id": "d125d811",
   "metadata": {},
   "source": [
    "## Question 2 (3 points)\n",
    "\n",
    "FizzBuzz is a CLASSIC exercise. Write a loop that prints out numbers from 0 to 100, but replaces any number divisible by 3 with \"fizz\" and any number divisible by 5 with the \"buzz\". You'll be using the modulo operator we learned at last lecture.\n",
    "\n",
    "Example output:\n",
    "\n",
    "```\n",
    "0\n",
    "1\n",
    "2\n",
    "\"fizz\"\n",
    "4\n",
    "\"buzz\"\n",
    "\"fizz\"\n",
    "7\n",
    "```\n",
    "\n",
    "Extra credit announced in Slack: for numbers that are divisible by both 3 and 5, print \"fizzbuzz\"."
   ]
  },
  {
   "cell_type": "code",
   "execution_count": null,
   "id": "ff30d91e",
   "metadata": {},
   "outputs": [],
   "source": [
    "for n in range(101):\n",
    "    if n % 3 == 0 and n % 5 == 0: # also good: if n % 15 == 0:\n",
    "        print('fizzbuzz')\n",
    "    elif (n % 3 == 0):\n",
    "        print('fizz')\n",
    "    elif (n % 5 == 0):\n",
    "        print('buzz')\n",
    "    else:\n",
    "        print(n)"
   ]
  },
  {
   "cell_type": "markdown",
   "id": "f19d5cfa",
   "metadata": {},
   "source": [
    "## Question 3 (5 points)\n",
    "\n",
    "Explain what's wrong with the following code:\n",
    "\n",
    "```python\n",
    "def voting_age(x):\n",
    "    if x = 17:\n",
    "        return 'Almost there'\n",
    "    else if x > 18:\n",
    "        return True\n",
    "    else\n",
    "        return 'False'\n",
    "```"
   ]
  },
  {
   "cell_type": "markdown",
   "id": "17054d25",
   "metadata": {},
   "source": [
    "**Possible answers:**\n",
    "- comparison `x = 17` should be `==`\n",
    "- and actually the conditional should really be `x >= 18`\n",
    "- `else if` should be `elif`\n",
    "- colon missing after `else`\n",
    "- `False` should not have quotation marks (or `True` should have quotation marks if you want to return strings)\n",
    "\n",
    "One more thing: it's best to `return` the _same type_ within a function. So how would we do that for `voting_age` but keep the sassy message for 17 year olds?"
   ]
  },
  {
   "cell_type": "code",
   "execution_count": null,
   "id": "77b15e89-4123-4d5c-a9db-0d41aeb5a0f0",
   "metadata": {},
   "outputs": [],
   "source": []
  },
  {
   "cell_type": "markdown",
   "id": "cac04298",
   "metadata": {
    "tags": []
   },
   "source": [
    "## Question 4 (3 points)\n",
    "\n",
    "Write a function `teenager` that tells a user if a given age counts as a teenager.\n",
    "\n",
    "Example outputs:\n",
    "\n",
    "```python\n",
    ">>> teenager(11)\n",
    "False\n",
    "\n",
    ">>> teenager(14.2)\n",
    "True\n",
    "\n",
    ">>> teenager(19)\n",
    "True\n",
    "```"
   ]
  },
  {
   "cell_type": "code",
   "execution_count": null,
   "id": "8169c29c",
   "metadata": {},
   "outputs": [],
   "source": [
    "def teenager(age):\n",
    "    if age >= 13 and age < 20:\n",
    "        return True\n",
    "    else:\n",
    "        return False\n",
    "    \n",
    "# or as a lambda\n",
    "teenager = lambda age: age >= 13 and age < 20"
   ]
  },
  {
   "cell_type": "markdown",
   "id": "30b82fb6-951a-4921-a7ee-77a1abe9aef6",
   "metadata": {},
   "source": [
    "**Tests**"
   ]
  },
  {
   "cell_type": "code",
   "execution_count": null,
   "id": "0a53cf16-d4c1-4d86-a176-24292dc8a129",
   "metadata": {},
   "outputs": [],
   "source": [
    "teenager(12)"
   ]
  },
  {
   "cell_type": "code",
   "execution_count": null,
   "id": "64338ed6-946e-4cd3-b143-da5c31e27e95",
   "metadata": {},
   "outputs": [],
   "source": [
    "teenager(12.999)"
   ]
  },
  {
   "cell_type": "code",
   "execution_count": null,
   "id": "2f09ab1f-6906-4a45-bc67-9bd2416c0322",
   "metadata": {},
   "outputs": [],
   "source": [
    "teenager(14)"
   ]
  },
  {
   "cell_type": "code",
   "execution_count": null,
   "id": "7613d438-638e-48e1-97ea-d348a9450ac0",
   "metadata": {},
   "outputs": [],
   "source": [
    "teenager(14.7)"
   ]
  },
  {
   "cell_type": "code",
   "execution_count": null,
   "id": "5ecfa279-de58-40b5-ac6f-769d1ba09455",
   "metadata": {},
   "outputs": [],
   "source": [
    "teenager(19)"
   ]
  },
  {
   "cell_type": "code",
   "execution_count": null,
   "id": "3d7045b9-4a91-404f-963a-0d23cf28b2a2",
   "metadata": {},
   "outputs": [],
   "source": [
    "teenager(19.9)"
   ]
  },
  {
   "cell_type": "code",
   "execution_count": null,
   "id": "5ac406f6-43e1-4155-b22b-c7c9ff079f99",
   "metadata": {},
   "outputs": [],
   "source": [
    "teenager(20)"
   ]
  },
  {
   "cell_type": "markdown",
   "id": "596aa022",
   "metadata": {},
   "source": [
    "## Question 5 (3 points)\n",
    "Write a function called `letter_grade` that takes in a number between 0 and 100 and returns a letter grade.\n",
    "\n",
    "Example outputs:\n",
    "\n",
    "```python\n",
    ">>> letter_grade(92)\n",
    "'A-'\n",
    "\n",
    ">>> letter_grade(76)\n",
    "'C'\n",
    "\n",
    ">>> letter_grade(77)\n",
    "'C+'\n",
    "```"
   ]
  },
  {
   "cell_type": "code",
   "execution_count": null,
   "id": "143ec71a",
   "metadata": {},
   "outputs": [],
   "source": [
    "def letter_grade(points):\n",
    "    if points >= 98:\n",
    "        return 'A+'\n",
    "    elif points >= 93:\n",
    "        return 'A'\n",
    "    elif points >= 90:\n",
    "        return 'A-'\n",
    "    elif points >= 88:\n",
    "        return 'B+'\n",
    "    elif points >= 83:\n",
    "        return 'B'\n",
    "    elif points >= 80:\n",
    "        return 'B-'\n",
    "    elif points >= 78:\n",
    "        return 'C+'\n",
    "    elif points >= 73:\n",
    "        return 'C'\n",
    "    elif points >= 70:\n",
    "        return 'C-'\n",
    "    elif points >= 68:\n",
    "        return 'D+'\n",
    "    elif points >= 63:\n",
    "        return 'D'\n",
    "    elif points >= 60:\n",
    "        return 'D-'\n",
    "    else:\n",
    "        return 'F'"
   ]
  },
  {
   "cell_type": "markdown",
   "id": "334c03df-3401-401e-9d42-c66c5028d4d5",
   "metadata": {},
   "source": [
    "**Tests**"
   ]
  },
  {
   "cell_type": "code",
   "execution_count": null,
   "id": "b519d6cc-7d14-4ada-91e9-f5ceab440e95",
   "metadata": {},
   "outputs": [],
   "source": [
    "letter_grade(92)"
   ]
  },
  {
   "cell_type": "code",
   "execution_count": null,
   "id": "c993f3e3-36b1-4f8b-bc2f-1ad5776a9741",
   "metadata": {},
   "outputs": [],
   "source": [
    "letter_grade(77)"
   ]
  },
  {
   "cell_type": "code",
   "execution_count": null,
   "id": "b87503c0-4ab0-4fd0-8797-fad9e24c9004",
   "metadata": {},
   "outputs": [],
   "source": [
    "letter_grade(60)"
   ]
  },
  {
   "cell_type": "code",
   "execution_count": null,
   "id": "9ee0c632-7f36-48d2-b49e-d70287d8de4a",
   "metadata": {},
   "outputs": [],
   "source": [
    "letter_grade(59)"
   ]
  },
  {
   "cell_type": "markdown",
   "id": "74f2d760",
   "metadata": {},
   "source": [
    "## Question 6 (3 points)\n",
    "Write a function called `parity` that tells us if an argument is odd, even, or neither.\n",
    "\n",
    "Example outputs:\n",
    "\n",
    "```python\n",
    ">>> parity(15)\n",
    "'odd'\n",
    "\n",
    ">>> parity(-48)\n",
    "'even'\n",
    "\n",
    ">>> parity(14.2)\n",
    "'not an integer'\n",
    "\n",
    ">>> parity('not a number!')\n",
    "'not an integer'\n",
    "```"
   ]
  },
  {
   "cell_type": "code",
   "execution_count": null,
   "id": "4badba29-6313-4356-95d0-5db5839e8c33",
   "metadata": {},
   "outputs": [],
   "source": [
    "def parity(n):\n",
    "    if type(n) == float:\n",
    "        return 'not an integer'\n",
    "    elif type(n) != int:\n",
    "        return 'not a number!'\n",
    "    elif n % 2:\n",
    "        return 'odd'\n",
    "    else:\n",
    "        return 'even'"
   ]
  },
  {
   "cell_type": "markdown",
   "id": "a0b235e4-e7dc-4eb2-a760-6c3436dd5ab4",
   "metadata": {},
   "source": [
    "**Tests**"
   ]
  },
  {
   "cell_type": "code",
   "execution_count": null,
   "id": "8dbbc924-545a-494c-9d40-f038123b5fa7",
   "metadata": {},
   "outputs": [],
   "source": [
    "parity(2)"
   ]
  },
  {
   "cell_type": "code",
   "execution_count": null,
   "id": "f769e49c-6cbc-43d0-9978-6bafdf3d87c1",
   "metadata": {},
   "outputs": [],
   "source": [
    "parity(5)"
   ]
  },
  {
   "cell_type": "code",
   "execution_count": null,
   "id": "3c9f5ff7-342c-488a-ab43-83387eece9c1",
   "metadata": {},
   "outputs": [],
   "source": [
    "parity(-2)"
   ]
  },
  {
   "cell_type": "code",
   "execution_count": null,
   "id": "537a542a-2c6e-4912-80f2-9e973636ea09",
   "metadata": {},
   "outputs": [],
   "source": [
    "parity(14.2)"
   ]
  },
  {
   "cell_type": "code",
   "execution_count": null,
   "id": "825a32e6-c6e5-4749-af25-50e90ab51e78",
   "metadata": {},
   "outputs": [],
   "source": [
    "parity('not a number!')"
   ]
  }
 ],
 "metadata": {
  "kernelspec": {
   "display_name": "Python 3 (ipykernel)",
   "language": "python",
   "name": "python3"
  },
  "language_info": {
   "codemirror_mode": {
    "name": "ipython",
    "version": 3
   },
   "file_extension": ".py",
   "mimetype": "text/x-python",
   "name": "python",
   "nbconvert_exporter": "python",
   "pygments_lexer": "ipython3",
   "version": "3.9.13"
  },
  "varInspector": {
   "cols": {
    "lenName": 16,
    "lenType": 16,
    "lenVar": 40
   },
   "kernels_config": {
    "python": {
     "delete_cmd_postfix": "",
     "delete_cmd_prefix": "del ",
     "library": "var_list.py",
     "varRefreshCmd": "print(var_dic_list())"
    },
    "r": {
     "delete_cmd_postfix": ") ",
     "delete_cmd_prefix": "rm(",
     "library": "var_list.r",
     "varRefreshCmd": "cat(var_dic_list()) "
    }
   },
   "types_to_exclude": [
    "module",
    "function",
    "builtin_function_or_method",
    "instance",
    "_Feature"
   ],
   "window_display": false
  }
 },
 "nbformat": 4,
 "nbformat_minor": 5
}
