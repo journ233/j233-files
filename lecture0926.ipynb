{
 "cells": [
  {
   "cell_type": "markdown",
   "id": "2d8663f3",
   "metadata": {
    "tags": []
   },
   "source": [
    "# Lecture 0926"
   ]
  },
  {
   "cell_type": "markdown",
   "id": "fc75bc9d-c565-46d4-b684-c306439cb9c5",
   "metadata": {},
   "source": [
    "## Exceptions with `try... except`"
   ]
  },
  {
   "cell_type": "code",
   "execution_count": null,
   "id": "4a91aa71",
   "metadata": {},
   "outputs": [],
   "source": [
    "while True:\n",
    "    try:\n",
    "        x = int(input('Please enter a whole number: '))\n",
    "        break\n",
    "    except ValueError:\n",
    "        # ValueError: Raised when an operation or function receives an argument \n",
    "        # that has the right type but an inappropriate value, and the situation is not \n",
    "        # described by a more precise exception such as IndexError.\n",
    "        # See more types of exceptions here: https://docs.python.org/3/library/exceptions.html\n",
    "\n",
    "        print('Oops! That was not a whole number.  Try again...')"
   ]
  },
  {
   "cell_type": "code",
   "execution_count": null,
   "id": "0c906b1d-aedb-4812-adcc-4ccfb3ebfc23",
   "metadata": {},
   "outputs": [],
   "source": [
    "def guess():\n",
    "    num = input('Pick a number between 1 and 5: ')\n",
    "    try:\n",
    "        num = int(num)\n",
    "        if num == 4:\n",
    "            print('Good guess!')\n",
    "        elif num < 1 or num > 5:\n",
    "            guess()\n",
    "        else:\n",
    "            print('Incorrect!')\n",
    "            guess()\n",
    "    except ValueError:\n",
    "        print('Pick an INTEGER between 1 and 5: ')\n",
    "        guess()"
   ]
  },
  {
   "cell_type": "code",
   "execution_count": null,
   "id": "390ec3ad-1b29-47e6-a7a7-e9caec34e460",
   "metadata": {},
   "outputs": [],
   "source": [
    "guess()"
   ]
  },
  {
   "cell_type": "markdown",
   "id": "8e8550dd-710b-4237-b1a0-8b61ba96697e",
   "metadata": {},
   "source": [
    "### Poll 2\n",
    "\n",
    "Rewrite the following functions to handle errors and exceptions for the variable `age`.\n",
    "\n",
    "```python\n",
    "def teenager(age):\n",
    "    age = int(age)\n",
    "    if age <= 13:\n",
    "        return False\n",
    "    elif age >= 20:\n",
    "        return False\n",
    "    else:\n",
    "        return True\n",
    "```\n"
   ]
  },
  {
   "cell_type": "code",
   "execution_count": null,
   "id": "eec901d7-aec7-48af-9384-83e780a1c572",
   "metadata": {},
   "outputs": [],
   "source": []
  },
  {
   "cell_type": "markdown",
   "id": "e3ab7589-350f-47dd-bbca-04a50ef6a4b7",
   "metadata": {},
   "source": [
    "## Variables for data structures lecture"
   ]
  },
  {
   "cell_type": "code",
   "execution_count": null,
   "id": "86a98fd9-55f3-4cfa-add2-7c8dbaebcc89",
   "metadata": {},
   "outputs": [],
   "source": [
    "university = 'Berkeley'"
   ]
  },
  {
   "cell_type": "code",
   "execution_count": null,
   "id": "bb50536c-af8d-435a-9a77-8f7a8fbe00c8",
   "metadata": {},
   "outputs": [],
   "source": []
  },
  {
   "cell_type": "code",
   "execution_count": null,
   "id": "de9bbc26-08a6-47e6-a48e-a097ea207e68",
   "metadata": {},
   "outputs": [],
   "source": [
    "random_numbers = [3, 0, 10, -2, 10, 7, -2]\n",
    "\n",
    "random_numbers_plus_bear = [3, 0, 10, -2, 10, 7, -2, 'bear']"
   ]
  },
  {
   "cell_type": "code",
   "execution_count": null,
   "id": "056c7dd5-5cbe-41eb-b7f1-20f3c9d868cd",
   "metadata": {},
   "outputs": [],
   "source": []
  },
  {
   "cell_type": "code",
   "execution_count": null,
   "id": "b9fef9ab-caf0-4201-9358-08bef54108b6",
   "metadata": {},
   "outputs": [],
   "source": [
    "j233 = ['Noah', 'Gracelynne', 'Lesley', 'Mengyuan', 'Brian', 'Derek', 'Kenneth']\n",
    "\n",
    "reveal_data_team = ['Dhruv', 'Melissa', 'Mohamed', 'Soo']"
   ]
  },
  {
   "cell_type": "code",
   "execution_count": null,
   "id": "e7a2ee72-3dce-465c-b47f-7b735960024c",
   "metadata": {},
   "outputs": [],
   "source": []
  },
  {
   "cell_type": "code",
   "execution_count": null,
   "id": "b7b51e5e-bc72-421c-90c5-bc66246d8336",
   "metadata": {},
   "outputs": [],
   "source": [
    "random_set = set([5, 3, 43343, -3, 443, 94, -93])"
   ]
  },
  {
   "cell_type": "code",
   "execution_count": null,
   "id": "a9bc82c0-bc8b-47e0-b4af-f77056115782",
   "metadata": {},
   "outputs": [],
   "source": []
  },
  {
   "cell_type": "code",
   "execution_count": null,
   "id": "32791676-082a-47bb-9085-506cc0b2e093",
   "metadata": {},
   "outputs": [],
   "source": [
    "set([5, 3, 43343, -3, 443, 94, -93, 'dog'])"
   ]
  },
  {
   "cell_type": "code",
   "execution_count": null,
   "id": "6e8b7da7-5ebb-423b-861e-e4d2849ba268",
   "metadata": {},
   "outputs": [],
   "source": []
  },
  {
   "cell_type": "code",
   "execution_count": null,
   "id": "20a1c6a6-9449-4df3-9d19-b6a98fa9d189",
   "metadata": {},
   "outputs": [],
   "source": [
    "# note: We are redefining the variables `j233` and \n",
    "# `reveal_data_team` from lists (in the previous cells) to sets\n",
    "\n",
    "j233 = {'Brian', 'Derek', 'Gracelynne', 'Kenneth', 'Soo', 'Lesley', 'Mengyuan', 'Noah'}\n",
    "\n",
    "reveal_data_team = {'Dhruv', 'Melissa', 'Mohamed', 'Soo'}"
   ]
  },
  {
   "cell_type": "code",
   "execution_count": null,
   "id": "f43e4695-04b9-4884-a7b4-cf6de4a7f191",
   "metadata": {},
   "outputs": [],
   "source": []
  },
  {
   "cell_type": "code",
   "execution_count": null,
   "id": "c90e8abc-30f2-4e7e-b817-dfc1f58aea79",
   "metadata": {},
   "outputs": [],
   "source": [
    "course = {\n",
    "    'department': 'JOURN',\n",
    "    'number': '223',\n",
    "    'title': 'Coding for Journalists',\n",
    "    'term': 'Fall 2021',\n",
    "    'instructor': 'Soo Oh',\n",
    "    'units': 3,\n",
    "    'length': '15 weeks',\n",
    "    'time': 'M 5:00 - 8:00',\n",
    "    'location': '108 North Gate (Lower News)'\n",
    "}"
   ]
  },
  {
   "cell_type": "code",
   "execution_count": null,
   "id": "5523ad13-5bf8-4b4e-ac80-37218d6d3f44",
   "metadata": {},
   "outputs": [],
   "source": []
  },
  {
   "cell_type": "code",
   "execution_count": null,
   "id": "be6dd372-6d72-4169-b5b8-5609ba0acb60",
   "metadata": {},
   "outputs": [],
   "source": [
    "colors_set = {'green', 'blue', 'red', 'yellow'}"
   ]
  },
  {
   "cell_type": "code",
   "execution_count": null,
   "id": "f58fe72e-d921-46e9-9762-5d3338baf0c8",
   "metadata": {},
   "outputs": [],
   "source": []
  },
  {
   "cell_type": "code",
   "execution_count": null,
   "id": "0a9fc93a-8edb-4034-9933-2771b7dfca66",
   "metadata": {},
   "outputs": [],
   "source": [
    "store_b =  {\n",
    "    'store': 'Store B',\n",
    "    'apples': 2,\n",
    "    'bananas': None,\n",
    "    'kiwis': 100\n",
    "}"
   ]
  },
  {
   "cell_type": "code",
   "execution_count": null,
   "id": "9ec0deb9-e3fc-470e-b1fc-033786511c5b",
   "metadata": {},
   "outputs": [],
   "source": []
  },
  {
   "cell_type": "code",
   "execution_count": null,
   "id": "cfdfeb25-911f-4f09-9edc-dc75a2755447",
   "metadata": {},
   "outputs": [],
   "source": [
    "store_a = {'store': 'Store A', 'apples': 52, 'bananas': 9, 'kiwis': 27}\n",
    "store_b = {'store': 'Store B', 'apples': 2, 'bananas': None, 'kiwis': 100}\n",
    "store_c = {'store': 'Store C', 'apples': 0, 'bananas': 53, 'kiwis': 4}"
   ]
  },
  {
   "cell_type": "code",
   "execution_count": null,
   "id": "135d185a-25a6-4f3c-9ec5-6a26a50f3817",
   "metadata": {},
   "outputs": [],
   "source": []
  },
  {
   "cell_type": "code",
   "execution_count": null,
   "id": "a92394cd-3b22-47e3-a970-6988f07553ff",
   "metadata": {},
   "outputs": [],
   "source": [
    "vegetables = ['asparagus', 'onion', 'salad greens', 'radishes']\n",
    "for vegetable in vegetables:\n",
    "    print(vegetable, end=' ')"
   ]
  },
  {
   "cell_type": "code",
   "execution_count": null,
   "id": "aa4669b0-3ec8-4184-abef-1c26e40b17b5",
   "metadata": {},
   "outputs": [],
   "source": []
  },
  {
   "cell_type": "code",
   "execution_count": null,
   "id": "4ec622d5-d088-4adf-823e-54b4d8a1404e",
   "metadata": {},
   "outputs": [],
   "source": [
    "grocery_list = {'bread', 'cheese', 'tomatoes', 'bread'}"
   ]
  },
  {
   "cell_type": "code",
   "execution_count": null,
   "id": "ea8ea648-6f99-48a0-b164-60f90b9470c5",
   "metadata": {},
   "outputs": [],
   "source": [
    "for key, value in store_a.items():\n",
    "    print(f'{ key } --- { value }')"
   ]
  },
  {
   "cell_type": "code",
   "execution_count": null,
   "id": "0deb3753-eb9a-4ef2-ab71-252990172a0f",
   "metadata": {},
   "outputs": [],
   "source": []
  },
  {
   "cell_type": "code",
   "execution_count": null,
   "id": "99bc34fe-8699-42fc-bd10-33dd775644be",
   "metadata": {},
   "outputs": [],
   "source": [
    "for key, value in store_a.items():\n",
    "    if key == 'store':\n",
    "        print(f'I called { value }.')\n",
    "    else:\n",
    "        print(f'The store has { value } { key } in stock.')"
   ]
  }
 ],
 "metadata": {
  "kernelspec": {
   "display_name": "Python 3 (ipykernel)",
   "language": "python",
   "name": "python3"
  },
  "language_info": {
   "codemirror_mode": {
    "name": "ipython",
    "version": 3
   },
   "file_extension": ".py",
   "mimetype": "text/x-python",
   "name": "python",
   "nbconvert_exporter": "python",
   "pygments_lexer": "ipython3",
   "version": "3.9.13"
  },
  "varInspector": {
   "cols": {
    "lenName": 16,
    "lenType": 16,
    "lenVar": 40
   },
   "kernels_config": {
    "python": {
     "delete_cmd_postfix": "",
     "delete_cmd_prefix": "del ",
     "library": "var_list.py",
     "varRefreshCmd": "print(var_dic_list())"
    },
    "r": {
     "delete_cmd_postfix": ") ",
     "delete_cmd_prefix": "rm(",
     "library": "var_list.r",
     "varRefreshCmd": "cat(var_dic_list()) "
    }
   },
   "types_to_exclude": [
    "module",
    "function",
    "builtin_function_or_method",
    "instance",
    "_Feature"
   ],
   "window_display": false
  }
 },
 "nbformat": 4,
 "nbformat_minor": 5
}
