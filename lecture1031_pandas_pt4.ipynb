{
 "cells": [
  {
   "cell_type": "markdown",
   "metadata": {},
   "source": [
    "# Lecture 1031: String cleaning and regex"
   ]
  },
  {
   "cell_type": "code",
   "execution_count": 1,
   "metadata": {},
   "outputs": [],
   "source": [
    "import pandas as pd\n",
    "import re"
   ]
  },
  {
   "cell_type": "markdown",
   "metadata": {},
   "source": [
    "## How to read in Excel files\n",
    "\n",
    "Two different kinds of Excel files...\n",
    "\n",
    "And other tricks of importing.\n",
    "\n",
    "We already learned to specify `dtype` and `parse_dates` when importing a CSV."
   ]
  },
  {
   "cell_type": "code",
   "execution_count": 3,
   "metadata": {},
   "outputs": [],
   "source": [
    "# TK"
   ]
  },
  {
   "cell_type": "markdown",
   "metadata": {},
   "source": [
    "## Cleaning up and 'normalizing' string columns\n",
    "\n",
    "But first, let's talk about regex, or regular expressions.\n",
    "\n",
    "We'll go through some of the lessons here: https://regexone.com/"
   ]
  },
  {
   "cell_type": "code",
   "execution_count": null,
   "metadata": {},
   "outputs": [],
   "source": [
    "# TK\n",
    "# df['col'] = df['col'].str.replace(r'[ ]+',' ', regex=True)\n"
   ]
  }
 ],
 "metadata": {
  "kernelspec": {
   "display_name": "Python 3.9.4 64-bit ('j233-files-3.9.4')",
   "language": "python",
   "name": "python3"
  },
  "language_info": {
   "codemirror_mode": {
    "name": "ipython",
    "version": 3
   },
   "file_extension": ".py",
   "mimetype": "text/x-python",
   "name": "python",
   "nbconvert_exporter": "python",
   "pygments_lexer": "ipython3",
   "version": "3.9.4"
  },
  "orig_nbformat": 4,
  "vscode": {
   "interpreter": {
    "hash": "fb04f89b61a62c03d47bf47357bc88692aa1a75ad45736fa559ef9e95df90447"
   }
  }
 },
 "nbformat": 4,
 "nbformat_minor": 2
}
