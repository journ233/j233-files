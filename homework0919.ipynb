{
 "cells": [
  {
   "cell_type": "markdown",
   "id": "2d8663f3",
   "metadata": {},
   "source": [
    "# Homework 0919"
   ]
  },
  {
   "cell_type": "markdown",
   "id": "0184095e",
   "metadata": {},
   "source": [
    "## Question 1 (3 points)\n",
    "\n",
    "Write a number guessing game that asks a user to pick a number from 0 to 5. You as the programmer can pick the correct number. If the user gets the guess wrong, they are prompted again until they answer correctly. If the user guesses correctly, then the code will print \"Correct!\""
   ]
  },
  {
   "cell_type": "code",
   "execution_count": null,
   "id": "a31f3ae0",
   "metadata": {},
   "outputs": [],
   "source": []
  },
  {
   "cell_type": "markdown",
   "id": "d125d811",
   "metadata": {},
   "source": [
    "## Question 2 (3 points)\n",
    "\n",
    "FizzBuzz is a CLASSIC exercise. Write a loop that prints out numbers from 0 to 100, but replaces any number divisible by 3 with \"fizz\" and any number divisible by 5 with the \"buzz\". You'll be using the modulo operator we learned at last lecture.\n",
    "\n",
    "Example output:\n",
    "\n",
    "```\n",
    "0\n",
    "1\n",
    "2\n",
    "\"fizz\"\n",
    "4\n",
    "\"buzz\"\n",
    "\"fizz\"\n",
    "7\n",
    "```"
   ]
  },
  {
   "cell_type": "code",
   "execution_count": null,
   "id": "ff30d91e",
   "metadata": {},
   "outputs": [],
   "source": []
  },
  {
   "cell_type": "markdown",
   "id": "f19d5cfa",
   "metadata": {},
   "source": [
    "## Question 3 (5 points)\n",
    "\n",
    "Explain what's wrong with the following code:\n",
    "\n",
    "```python\n",
    "def voting_age(x):\n",
    "    if x = 17:\n",
    "        return 'Almost there'\n",
    "    else if x > 18:\n",
    "        return True\n",
    "    else\n",
    "        return 'False'\n",
    "```"
   ]
  },
  {
   "cell_type": "markdown",
   "id": "17054d25",
   "metadata": {},
   "source": []
  },
  {
   "cell_type": "markdown",
   "id": "cac04298",
   "metadata": {},
   "source": [
    "## Question 4 (3 points)\n",
    "\n",
    "Write a function `teenager` that tells a user if a given age counts as a teenager.\n",
    "\n",
    "Example outputs:\n",
    "\n",
    "```python\n",
    "teenager(11)\n",
    ">>> False\n",
    "\n",
    "teenager(14.2)\n",
    ">>> True\n",
    "\n",
    "teenager(19)\n",
    ">>> True\n",
    "```"
   ]
  },
  {
   "cell_type": "code",
   "execution_count": null,
   "id": "8169c29c",
   "metadata": {},
   "outputs": [],
   "source": []
  },
  {
   "cell_type": "markdown",
   "id": "596aa022",
   "metadata": {},
   "source": [
    "## Question 5 (3 points)\n",
    "Write a function called `letter_grade` that takes in a number between 0 and 100 and returns a letter grade.\n",
    "\n",
    "Example outputs:\n",
    "\n",
    "```python\n",
    "letter_grade(92)\n",
    ">>> 'A-'\n",
    "\n",
    "letter_grade(76):\n",
    ">>> 'C'\n",
    "\n",
    "letter_grade(77):\n",
    ">>> 'C+'\n",
    "```"
   ]
  },
  {
   "cell_type": "code",
   "execution_count": null,
   "id": "143ec71a",
   "metadata": {},
   "outputs": [],
   "source": []
  },
  {
   "cell_type": "markdown",
   "id": "74f2d760",
   "metadata": {},
   "source": [
    "## Question 6 (3 points)\n",
    "Write a function called `parity` that tells us if an argument is odd, even, or neither.\n",
    "\n",
    "Example outputs:\n",
    "\n",
    "```python\n",
    "parity(15)\n",
    ">>> 'odd'\n",
    "\n",
    "parity(-48)\n",
    ">>> 'even'\n",
    "\n",
    "parity(14.2)\n",
    ">>> 'not an integer'\n",
    "\n",
    "parity('not a number!')\n",
    ">>> 'not an integer'\"\n",
    "```"
   ]
  },
  {
   "cell_type": "code",
   "execution_count": null,
   "id": "4a91aa71",
   "metadata": {},
   "outputs": [],
   "source": []
  },
  {
   "cell_type": "markdown",
   "id": "37923ffe",
   "metadata": {},
   "source": [
    "## Question 7 (1 extra credit point)\n",
    "\n",
    "How much time did you spend on the class this week NOT including lecture or office hours?"
   ]
  },
  {
   "cell_type": "markdown",
   "id": "57bb4319",
   "metadata": {},
   "source": []
  }
 ],
 "metadata": {
  "kernelspec": {
   "display_name": "Python 3 (ipykernel)",
   "language": "python",
   "name": "python3"
  },
  "language_info": {
   "codemirror_mode": {
    "name": "ipython",
    "version": 3
   },
   "file_extension": ".py",
   "mimetype": "text/x-python",
   "name": "python",
   "nbconvert_exporter": "python",
   "pygments_lexer": "ipython3",
   "version": "3.9.13"
  },
  "varInspector": {
   "cols": {
    "lenName": 16,
    "lenType": 16,
    "lenVar": 40
   },
   "kernels_config": {
    "python": {
     "delete_cmd_postfix": "",
     "delete_cmd_prefix": "del ",
     "library": "var_list.py",
     "varRefreshCmd": "print(var_dic_list())"
    },
    "r": {
     "delete_cmd_postfix": ") ",
     "delete_cmd_prefix": "rm(",
     "library": "var_list.r",
     "varRefreshCmd": "cat(var_dic_list()) "
    }
   },
   "types_to_exclude": [
    "module",
    "function",
    "builtin_function_or_method",
    "instance",
    "_Feature"
   ],
   "window_display": false
  }
 },
 "nbformat": 4,
 "nbformat_minor": 5
}
